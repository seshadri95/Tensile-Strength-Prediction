{
 "cells": [
  {
   "cell_type": "code",
   "execution_count": 1,
   "metadata": {},
   "outputs": [],
   "source": [
    "import pandas as pd\n",
    "import numpy as np\n",
    "import seaborn as sns\n"
   ]
  },
  {
   "cell_type": "code",
   "execution_count": 2,
   "metadata": {},
   "outputs": [],
   "source": [
    "columns = ['normalising_temperature','tempering_temperature','sample','percent_silicon','percent_chromium','manufacture_year','percent_copper','percent_nickel','percent_sulphur','percent_carbon','percent_manganese','tensile_strength']\n",
    "\n",
    "steel_df = pd.read_csv('steel.txt',sep='\\t',header = None)"
   ]
  },
  {
   "cell_type": "code",
   "execution_count": 3,
   "metadata": {},
   "outputs": [
    {
     "data": {
      "text/html": [
       "<div>\n",
       "<style scoped>\n",
       "    .dataframe tbody tr th:only-of-type {\n",
       "        vertical-align: middle;\n",
       "    }\n",
       "\n",
       "    .dataframe tbody tr th {\n",
       "        vertical-align: top;\n",
       "    }\n",
       "\n",
       "    .dataframe thead th {\n",
       "        text-align: right;\n",
       "    }\n",
       "</style>\n",
       "<table border=\"1\" class=\"dataframe\">\n",
       "  <thead>\n",
       "    <tr style=\"text-align: right;\">\n",
       "      <th></th>\n",
       "      <th>normalising_temperature</th>\n",
       "      <th>tempering_temperature</th>\n",
       "      <th>sample</th>\n",
       "      <th>percent_silicon</th>\n",
       "      <th>percent_chromium</th>\n",
       "      <th>manufacture_year</th>\n",
       "      <th>percent_copper</th>\n",
       "      <th>percent_nickel</th>\n",
       "      <th>percent_sulphur</th>\n",
       "      <th>percent_carbon</th>\n",
       "      <th>percent_manganese</th>\n",
       "      <th>tensile_strength</th>\n",
       "    </tr>\n",
       "  </thead>\n",
       "  <tbody>\n",
       "    <tr>\n",
       "      <td>count</td>\n",
       "      <td>553.000000</td>\n",
       "      <td>553.000000</td>\n",
       "      <td>553.000000</td>\n",
       "      <td>553.000000</td>\n",
       "      <td>553.000000</td>\n",
       "      <td>553.000000</td>\n",
       "      <td>553.000000</td>\n",
       "      <td>553.000000</td>\n",
       "      <td>553.000000</td>\n",
       "      <td>553.000000</td>\n",
       "      <td>553.000000</td>\n",
       "      <td>553.000000</td>\n",
       "    </tr>\n",
       "    <tr>\n",
       "      <td>mean</td>\n",
       "      <td>478.205222</td>\n",
       "      <td>752.124774</td>\n",
       "      <td>572.600362</td>\n",
       "      <td>0.063890</td>\n",
       "      <td>1.277492</td>\n",
       "      <td>2000.761302</td>\n",
       "      <td>0.784018</td>\n",
       "      <td>0.972592</td>\n",
       "      <td>0.059302</td>\n",
       "      <td>1.817157</td>\n",
       "      <td>0.577192</td>\n",
       "      <td>192.048148</td>\n",
       "    </tr>\n",
       "    <tr>\n",
       "      <td>std</td>\n",
       "      <td>162.317845</td>\n",
       "      <td>259.220817</td>\n",
       "      <td>272.342245</td>\n",
       "      <td>0.080655</td>\n",
       "      <td>0.260280</td>\n",
       "      <td>6.415630</td>\n",
       "      <td>0.068589</td>\n",
       "      <td>0.074270</td>\n",
       "      <td>0.055396</td>\n",
       "      <td>0.185422</td>\n",
       "      <td>0.623316</td>\n",
       "      <td>91.134383</td>\n",
       "    </tr>\n",
       "    <tr>\n",
       "      <td>min</td>\n",
       "      <td>178.500000</td>\n",
       "      <td>225.000000</td>\n",
       "      <td>1.000000</td>\n",
       "      <td>0.000000</td>\n",
       "      <td>0.745783</td>\n",
       "      <td>1990.000000</td>\n",
       "      <td>0.594000</td>\n",
       "      <td>0.801000</td>\n",
       "      <td>0.000000</td>\n",
       "      <td>1.378000</td>\n",
       "      <td>0.000000</td>\n",
       "      <td>12.824943</td>\n",
       "    </tr>\n",
       "    <tr>\n",
       "      <td>25%</td>\n",
       "      <td>382.987500</td>\n",
       "      <td>550.000000</td>\n",
       "      <td>340.000000</td>\n",
       "      <td>0.000000</td>\n",
       "      <td>1.065888</td>\n",
       "      <td>1995.000000</td>\n",
       "      <td>0.753450</td>\n",
       "      <td>0.932000</td>\n",
       "      <td>0.000000</td>\n",
       "      <td>1.680800</td>\n",
       "      <td>0.000000</td>\n",
       "      <td>126.201687</td>\n",
       "    </tr>\n",
       "    <tr>\n",
       "      <td>50%</td>\n",
       "      <td>465.850000</td>\n",
       "      <td>900.000000</td>\n",
       "      <td>578.000000</td>\n",
       "      <td>0.000000</td>\n",
       "      <td>1.286314</td>\n",
       "      <td>2001.000000</td>\n",
       "      <td>0.784000</td>\n",
       "      <td>0.968000</td>\n",
       "      <td>0.061000</td>\n",
       "      <td>1.857000</td>\n",
       "      <td>0.244600</td>\n",
       "      <td>182.556353</td>\n",
       "    </tr>\n",
       "    <tr>\n",
       "      <td>75%</td>\n",
       "      <td>570.500000</td>\n",
       "      <td>900.000000</td>\n",
       "      <td>795.000000</td>\n",
       "      <td>0.129800</td>\n",
       "      <td>1.492220</td>\n",
       "      <td>2007.000000</td>\n",
       "      <td>0.830000</td>\n",
       "      <td>1.028100</td>\n",
       "      <td>0.101000</td>\n",
       "      <td>1.920000</td>\n",
       "      <td>1.175400</td>\n",
       "      <td>245.501719</td>\n",
       "    </tr>\n",
       "    <tr>\n",
       "      <td>max</td>\n",
       "      <td>945.000000</td>\n",
       "      <td>950.000000</td>\n",
       "      <td>1030.000000</td>\n",
       "      <td>0.359400</td>\n",
       "      <td>1.794173</td>\n",
       "      <td>2011.000000</td>\n",
       "      <td>0.945000</td>\n",
       "      <td>1.125000</td>\n",
       "      <td>0.322000</td>\n",
       "      <td>2.470000</td>\n",
       "      <td>1.950000</td>\n",
       "      <td>454.295736</td>\n",
       "    </tr>\n",
       "  </tbody>\n",
       "</table>\n",
       "</div>"
      ],
      "text/plain": [
       "       normalising_temperature  tempering_temperature       sample  \\\n",
       "count               553.000000             553.000000   553.000000   \n",
       "mean                478.205222             752.124774   572.600362   \n",
       "std                 162.317845             259.220817   272.342245   \n",
       "min                 178.500000             225.000000     1.000000   \n",
       "25%                 382.987500             550.000000   340.000000   \n",
       "50%                 465.850000             900.000000   578.000000   \n",
       "75%                 570.500000             900.000000   795.000000   \n",
       "max                 945.000000             950.000000  1030.000000   \n",
       "\n",
       "       percent_silicon  percent_chromium  manufacture_year  percent_copper  \\\n",
       "count       553.000000        553.000000        553.000000      553.000000   \n",
       "mean          0.063890          1.277492       2000.761302        0.784018   \n",
       "std           0.080655          0.260280          6.415630        0.068589   \n",
       "min           0.000000          0.745783       1990.000000        0.594000   \n",
       "25%           0.000000          1.065888       1995.000000        0.753450   \n",
       "50%           0.000000          1.286314       2001.000000        0.784000   \n",
       "75%           0.129800          1.492220       2007.000000        0.830000   \n",
       "max           0.359400          1.794173       2011.000000        0.945000   \n",
       "\n",
       "       percent_nickel  percent_sulphur  percent_carbon  percent_manganese  \\\n",
       "count      553.000000       553.000000      553.000000         553.000000   \n",
       "mean         0.972592         0.059302        1.817157           0.577192   \n",
       "std          0.074270         0.055396        0.185422           0.623316   \n",
       "min          0.801000         0.000000        1.378000           0.000000   \n",
       "25%          0.932000         0.000000        1.680800           0.000000   \n",
       "50%          0.968000         0.061000        1.857000           0.244600   \n",
       "75%          1.028100         0.101000        1.920000           1.175400   \n",
       "max          1.125000         0.322000        2.470000           1.950000   \n",
       "\n",
       "       tensile_strength  \n",
       "count        553.000000  \n",
       "mean         192.048148  \n",
       "std           91.134383  \n",
       "min           12.824943  \n",
       "25%          126.201687  \n",
       "50%          182.556353  \n",
       "75%          245.501719  \n",
       "max          454.295736  "
      ]
     },
     "execution_count": 3,
     "metadata": {},
     "output_type": "execute_result"
    }
   ],
   "source": [
    "steel_df.columns = columns\n",
    "steel_df.describe()"
   ]
  },
  {
   "cell_type": "code",
   "execution_count": 4,
   "metadata": {},
   "outputs": [
    {
     "data": {
      "text/html": [
       "<div>\n",
       "<style scoped>\n",
       "    .dataframe tbody tr th:only-of-type {\n",
       "        vertical-align: middle;\n",
       "    }\n",
       "\n",
       "    .dataframe tbody tr th {\n",
       "        vertical-align: top;\n",
       "    }\n",
       "\n",
       "    .dataframe thead th {\n",
       "        text-align: right;\n",
       "    }\n",
       "</style>\n",
       "<table border=\"1\" class=\"dataframe\">\n",
       "  <thead>\n",
       "    <tr style=\"text-align: right;\">\n",
       "      <th></th>\n",
       "      <th>normalising_temperature</th>\n",
       "      <th>tempering_temperature</th>\n",
       "      <th>sample</th>\n",
       "      <th>percent_silicon</th>\n",
       "      <th>percent_chromium</th>\n",
       "      <th>manufacture_year</th>\n",
       "      <th>percent_copper</th>\n",
       "      <th>percent_nickel</th>\n",
       "      <th>percent_sulphur</th>\n",
       "      <th>percent_carbon</th>\n",
       "      <th>percent_manganese</th>\n",
       "      <th>tensile_strength</th>\n",
       "    </tr>\n",
       "  </thead>\n",
       "  <tbody>\n",
       "    <tr>\n",
       "      <td>0</td>\n",
       "      <td>178.500</td>\n",
       "      <td>275</td>\n",
       "      <td>653</td>\n",
       "      <td>0.1530</td>\n",
       "      <td>0.970575</td>\n",
       "      <td>1998</td>\n",
       "      <td>0.942</td>\n",
       "      <td>0.8870</td>\n",
       "      <td>0.0</td>\n",
       "      <td>1.920</td>\n",
       "      <td>0.0</td>\n",
       "      <td>0.027822</td>\n",
       "    </tr>\n",
       "    <tr>\n",
       "      <td>1</td>\n",
       "      <td>178.500</td>\n",
       "      <td>950</td>\n",
       "      <td>654</td>\n",
       "      <td>0.1530</td>\n",
       "      <td>1.212726</td>\n",
       "      <td>2010</td>\n",
       "      <td>0.942</td>\n",
       "      <td>0.8870</td>\n",
       "      <td>0.0</td>\n",
       "      <td>1.920</td>\n",
       "      <td>0.0</td>\n",
       "      <td>0.288151</td>\n",
       "    </tr>\n",
       "    <tr>\n",
       "      <td>2</td>\n",
       "      <td>178.500</td>\n",
       "      <td>375</td>\n",
       "      <td>678</td>\n",
       "      <td>0.1530</td>\n",
       "      <td>1.621165</td>\n",
       "      <td>1992</td>\n",
       "      <td>0.942</td>\n",
       "      <td>0.8870</td>\n",
       "      <td>0.0</td>\n",
       "      <td>1.920</td>\n",
       "      <td>0.0</td>\n",
       "      <td>0.066579</td>\n",
       "    </tr>\n",
       "    <tr>\n",
       "      <td>3</td>\n",
       "      <td>178.500</td>\n",
       "      <td>900</td>\n",
       "      <td>681</td>\n",
       "      <td>0.1530</td>\n",
       "      <td>0.809989</td>\n",
       "      <td>1991</td>\n",
       "      <td>0.942</td>\n",
       "      <td>0.8870</td>\n",
       "      <td>0.0</td>\n",
       "      <td>1.920</td>\n",
       "      <td>0.0</td>\n",
       "      <td>0.186174</td>\n",
       "    </tr>\n",
       "    <tr>\n",
       "      <td>4</td>\n",
       "      <td>189.525</td>\n",
       "      <td>900</td>\n",
       "      <td>658</td>\n",
       "      <td>0.1624</td>\n",
       "      <td>1.036229</td>\n",
       "      <td>2009</td>\n",
       "      <td>0.849</td>\n",
       "      <td>0.9382</td>\n",
       "      <td>0.0</td>\n",
       "      <td>2.035</td>\n",
       "      <td>0.0</td>\n",
       "      <td>0.227516</td>\n",
       "    </tr>\n",
       "  </tbody>\n",
       "</table>\n",
       "</div>"
      ],
      "text/plain": [
       "   normalising_temperature  tempering_temperature  sample  percent_silicon  \\\n",
       "0                  178.500                    275     653           0.1530   \n",
       "1                  178.500                    950     654           0.1530   \n",
       "2                  178.500                    375     678           0.1530   \n",
       "3                  178.500                    900     681           0.1530   \n",
       "4                  189.525                    900     658           0.1624   \n",
       "\n",
       "   percent_chromium  manufacture_year  percent_copper  percent_nickel  \\\n",
       "0          0.970575              1998           0.942          0.8870   \n",
       "1          1.212726              2010           0.942          0.8870   \n",
       "2          1.621165              1992           0.942          0.8870   \n",
       "3          0.809989              1991           0.942          0.8870   \n",
       "4          1.036229              2009           0.849          0.9382   \n",
       "\n",
       "   percent_sulphur  percent_carbon  percent_manganese  tensile_strength  \n",
       "0              0.0           1.920                0.0          0.027822  \n",
       "1              0.0           1.920                0.0          0.288151  \n",
       "2              0.0           1.920                0.0          0.066579  \n",
       "3              0.0           1.920                0.0          0.186174  \n",
       "4              0.0           2.035                0.0          0.227516  "
      ]
     },
     "execution_count": 4,
     "metadata": {},
     "output_type": "execute_result"
    }
   ],
   "source": [
    "from sklearn.preprocessing import MinMaxScaler\n",
    "tensile_strength_scaler = MinMaxScaler()\n",
    "steel_df['tensile_strength'] = tensile_strength_scaler.fit_transform(steel_df['tensile_strength'].values.reshape(-1,1))\n",
    "steel_df.head(5)"
   ]
  },
  {
   "cell_type": "code",
   "execution_count": 5,
   "metadata": {},
   "outputs": [
    {
     "data": {
      "text/plain": [
       "<matplotlib.axes._subplots.AxesSubplot at 0x2044da25b00>"
      ]
     },
     "execution_count": 5,
     "metadata": {},
     "output_type": "execute_result"
    },
    {
     "data": {
      "image/png": "[encoded data removed]",
      "text/plain": [
       "<Figure size 432x288 with 1 Axes>"
      ]
     },
     "metadata": {
      "needs_background": "light"
     },
     "output_type": "display_data"
    }
   ],
   "source": [
    "sns.scatterplot(x='manufacture_year',y='tensile_strength',data = steel_df)"
   ]
  },
  {
   "cell_type": "markdown",
   "metadata": {},
   "source": [
    "## After scaling Y variable checking if there is any skewness in the distribution bcz our model tends influenced by skewness"
   ]
  },
  {
   "cell_type": "code",
   "execution_count": 6,
   "metadata": {},
   "outputs": [
    {
     "data": {
      "text/plain": [
       "<matplotlib.axes._subplots.AxesSubplot at 0x2044d2bb3c8>"
      ]
     },
     "execution_count": 6,
     "metadata": {},
     "output_type": "execute_result"
    },
    {
     "data": {
      "image/png": "[encoded data removed]",
      "text/plain": [
       "<Figure size 432x288 with 1 Axes>"
      ]
     },
     "metadata": {
      "needs_background": "light"
     },
     "output_type": "display_data"
    }
   ],
   "source": [
    "steel_df['tensile_strength'].plot.kde()"
   ]
  },
  {
   "cell_type": "markdown",
   "metadata": {},
   "source": [
    "# No relation between manufacture year and tensile strength and also sample id has nothing to do with tensile strength"
   ]
  },
  {
   "cell_type": "code",
   "execution_count": 7,
   "metadata": {},
   "outputs": [
    {
     "data": {
      "text/html": [
       "<div>\n",
       "<style scoped>\n",
       "    .dataframe tbody tr th:only-of-type {\n",
       "        vertical-align: middle;\n",
       "    }\n",
       "\n",
       "    .dataframe tbody tr th {\n",
       "        vertical-align: top;\n",
       "    }\n",
       "\n",
       "    .dataframe thead th {\n",
       "        text-align: right;\n",
       "    }\n",
       "</style>\n",
       "<table border=\"1\" class=\"dataframe\">\n",
       "  <thead>\n",
       "    <tr style=\"text-align: right;\">\n",
       "      <th></th>\n",
       "      <th>normalising_temperature</th>\n",
       "      <th>tempering_temperature</th>\n",
       "      <th>percent_silicon</th>\n",
       "      <th>percent_chromium</th>\n",
       "      <th>percent_copper</th>\n",
       "      <th>percent_nickel</th>\n",
       "      <th>percent_sulphur</th>\n",
       "      <th>percent_carbon</th>\n",
       "      <th>percent_manganese</th>\n",
       "      <th>tensile_strength</th>\n",
       "    </tr>\n",
       "  </thead>\n",
       "  <tbody>\n",
       "    <tr>\n",
       "      <td>0</td>\n",
       "      <td>178.500</td>\n",
       "      <td>275</td>\n",
       "      <td>0.1530</td>\n",
       "      <td>0.970575</td>\n",
       "      <td>0.942</td>\n",
       "      <td>0.8870</td>\n",
       "      <td>0.0</td>\n",
       "      <td>1.920</td>\n",
       "      <td>0.0</td>\n",
       "      <td>0.027822</td>\n",
       "    </tr>\n",
       "    <tr>\n",
       "      <td>1</td>\n",
       "      <td>178.500</td>\n",
       "      <td>950</td>\n",
       "      <td>0.1530</td>\n",
       "      <td>1.212726</td>\n",
       "      <td>0.942</td>\n",
       "      <td>0.8870</td>\n",
       "      <td>0.0</td>\n",
       "      <td>1.920</td>\n",
       "      <td>0.0</td>\n",
       "      <td>0.288151</td>\n",
       "    </tr>\n",
       "    <tr>\n",
       "      <td>2</td>\n",
       "      <td>178.500</td>\n",
       "      <td>375</td>\n",
       "      <td>0.1530</td>\n",
       "      <td>1.621165</td>\n",
       "      <td>0.942</td>\n",
       "      <td>0.8870</td>\n",
       "      <td>0.0</td>\n",
       "      <td>1.920</td>\n",
       "      <td>0.0</td>\n",
       "      <td>0.066579</td>\n",
       "    </tr>\n",
       "    <tr>\n",
       "      <td>3</td>\n",
       "      <td>178.500</td>\n",
       "      <td>900</td>\n",
       "      <td>0.1530</td>\n",
       "      <td>0.809989</td>\n",
       "      <td>0.942</td>\n",
       "      <td>0.8870</td>\n",
       "      <td>0.0</td>\n",
       "      <td>1.920</td>\n",
       "      <td>0.0</td>\n",
       "      <td>0.186174</td>\n",
       "    </tr>\n",
       "    <tr>\n",
       "      <td>4</td>\n",
       "      <td>189.525</td>\n",
       "      <td>900</td>\n",
       "      <td>0.1624</td>\n",
       "      <td>1.036229</td>\n",
       "      <td>0.849</td>\n",
       "      <td>0.9382</td>\n",
       "      <td>0.0</td>\n",
       "      <td>2.035</td>\n",
       "      <td>0.0</td>\n",
       "      <td>0.227516</td>\n",
       "    </tr>\n",
       "  </tbody>\n",
       "</table>\n",
       "</div>"
      ],
      "text/plain": [
       "   normalising_temperature  tempering_temperature  percent_silicon  \\\n",
       "0                  178.500                    275           0.1530   \n",
       "1                  178.500                    950           0.1530   \n",
       "2                  178.500                    375           0.1530   \n",
       "3                  178.500                    900           0.1530   \n",
       "4                  189.525                    900           0.1624   \n",
       "\n",
       "   percent_chromium  percent_copper  percent_nickel  percent_sulphur  \\\n",
       "0          0.970575           0.942          0.8870              0.0   \n",
       "1          1.212726           0.942          0.8870              0.0   \n",
       "2          1.621165           0.942          0.8870              0.0   \n",
       "3          0.809989           0.942          0.8870              0.0   \n",
       "4          1.036229           0.849          0.9382              0.0   \n",
       "\n",
       "   percent_carbon  percent_manganese  tensile_strength  \n",
       "0           1.920                0.0          0.027822  \n",
       "1           1.920                0.0          0.288151  \n",
       "2           1.920                0.0          0.066579  \n",
       "3           1.920                0.0          0.186174  \n",
       "4           2.035                0.0          0.227516  "
      ]
     },
     "execution_count": 7,
     "metadata": {},
     "output_type": "execute_result"
    }
   ],
   "source": [
    "steel_df = steel_df.drop(columns=['manufacture_year','sample'])\n",
    "steel_df.head(5)"
   ]
  },
  {
   "cell_type": "code",
   "execution_count": 8,
   "metadata": {},
   "outputs": [
    {
     "data": {
      "text/html": [
       "<table class=\"simpletable\">\n",
       "<caption>OLS Regression Results</caption>\n",
       "<tr>\n",
       "  <th>Dep. Variable:</th>            <td>y</td>        <th>  R-squared:         </th> <td>   0.802</td> \n",
       "</tr>\n",
       "<tr>\n",
       "  <th>Model:</th>                   <td>OLS</td>       <th>  Adj. R-squared:    </th> <td>   0.800</td> \n",
       "</tr>\n",
       "<tr>\n",
       "  <th>Method:</th>             <td>Least Squares</td>  <th>  F-statistic:       </th> <td>   315.5</td> \n",
       "</tr>\n",
       "<tr>\n",
       "  <th>Date:</th>             <td>Tue, 07 Jan 2020</td> <th>  Prob (F-statistic):</th> <td>4.34e-187</td>\n",
       "</tr>\n",
       "<tr>\n",
       "  <th>Time:</th>                 <td>20:00:12</td>     <th>  Log-Likelihood:    </th> <td>  536.22</td> \n",
       "</tr>\n",
       "<tr>\n",
       "  <th>No. Observations:</th>      <td>   553</td>      <th>  AIC:               </th> <td>  -1056.</td> \n",
       "</tr>\n",
       "<tr>\n",
       "  <th>Df Residuals:</th>          <td>   545</td>      <th>  BIC:               </th> <td>  -1022.</td> \n",
       "</tr>\n",
       "<tr>\n",
       "  <th>Df Model:</th>              <td>     7</td>      <th>                     </th>     <td> </td>    \n",
       "</tr>\n",
       "<tr>\n",
       "  <th>Covariance Type:</th>      <td>nonrobust</td>    <th>                     </th>     <td> </td>    \n",
       "</tr>\n",
       "</table>\n",
       "<table class=\"simpletable\">\n",
       "<tr>\n",
       "             <td></td>                <th>coef</th>     <th>std err</th>      <th>t</th>      <th>P>|t|</th>  <th>[0.025</th>    <th>0.975]</th>  \n",
       "</tr>\n",
       "<tr>\n",
       "  <th>const</th>                   <td>   -1.3671</td> <td>    0.333</td> <td>   -4.102</td> <td> 0.000</td> <td>   -2.022</td> <td>   -0.712</td>\n",
       "</tr>\n",
       "<tr>\n",
       "  <th>normalising_temperature</th> <td>    0.0011</td> <td> 6.27e-05</td> <td>   17.006</td> <td> 0.000</td> <td>    0.001</td> <td>    0.001</td>\n",
       "</tr>\n",
       "<tr>\n",
       "  <th>tempering_temperature</th>   <td>    0.0005</td> <td> 1.56e-05</td> <td>   29.542</td> <td> 0.000</td> <td>    0.000</td> <td>    0.000</td>\n",
       "</tr>\n",
       "<tr>\n",
       "  <th>percent_silicon</th>         <td>    1.5870</td> <td>    0.128</td> <td>   12.439</td> <td> 0.000</td> <td>    1.336</td> <td>    1.838</td>\n",
       "</tr>\n",
       "<tr>\n",
       "  <th>percent_copper</th>          <td>    0.6123</td> <td>    0.139</td> <td>    4.402</td> <td> 0.000</td> <td>    0.339</td> <td>    0.886</td>\n",
       "</tr>\n",
       "<tr>\n",
       "  <th>percent_nickel</th>          <td>    0.5979</td> <td>    0.118</td> <td>    5.061</td> <td> 0.000</td> <td>    0.366</td> <td>    0.830</td>\n",
       "</tr>\n",
       "<tr>\n",
       "  <th>percent_carbon</th>          <td>   -0.1744</td> <td>    0.046</td> <td>   -3.821</td> <td> 0.000</td> <td>   -0.264</td> <td>   -0.085</td>\n",
       "</tr>\n",
       "<tr>\n",
       "  <th>percent_manganese</th>       <td>    0.1220</td> <td>    0.016</td> <td>    7.872</td> <td> 0.000</td> <td>    0.092</td> <td>    0.152</td>\n",
       "</tr>\n",
       "</table>\n",
       "<table class=\"simpletable\">\n",
       "<tr>\n",
       "  <th>Omnibus:</th>       <td> 0.399</td> <th>  Durbin-Watson:     </th> <td>   1.234</td>\n",
       "</tr>\n",
       "<tr>\n",
       "  <th>Prob(Omnibus):</th> <td> 0.819</td> <th>  Jarque-Bera (JB):  </th> <td>   0.402</td>\n",
       "</tr>\n",
       "<tr>\n",
       "  <th>Skew:</th>          <td> 0.065</td> <th>  Prob(JB):          </th> <td>   0.818</td>\n",
       "</tr>\n",
       "<tr>\n",
       "  <th>Kurtosis:</th>      <td> 2.976</td> <th>  Cond. No.          </th> <td>9.27e+04</td>\n",
       "</tr>\n",
       "</table><br/><br/>Warnings:<br/>[1] Standard Errors assume that the covariance matrix of the errors is correctly specified.<br/>[2] The condition number is large, 9.27e+04. This might indicate that there are<br/>strong multicollinearity or other numerical problems."
      ],
      "text/plain": [
       "<class 'statsmodels.iolib.summary.Summary'>\n",
       "\"\"\"\n",
       "                            OLS Regression Results                            \n",
       "==============================================================================\n",
       "Dep. Variable:                      y   R-squared:                       0.802\n",
       "Model:                            OLS   Adj. R-squared:                  0.800\n",
       "Method:                 Least Squares   F-statistic:                     315.5\n",
       "Date:                Tue, 07 Jan 2020   Prob (F-statistic):          4.34e-187\n",
       "Time:                        20:00:12   Log-Likelihood:                 536.22\n",
       "No. Observations:                 553   AIC:                            -1056.\n",
       "Df Residuals:                     545   BIC:                            -1022.\n",
       "Df Model:                           7                                         \n",
       "Covariance Type:            nonrobust                                         \n",
       "===========================================================================================\n",
       "                              coef    std err          t      P>|t|      [0.025      0.975]\n",
       "-------------------------------------------------------------------------------------------\n",
       "const                      -1.3671      0.333     -4.102      0.000      -2.022      -0.712\n",
       "normalising_temperature     0.0011   6.27e-05     17.006      0.000       0.001       0.001\n",
       "tempering_temperature       0.0005   1.56e-05     29.542      0.000       0.000       0.000\n",
       "percent_silicon             1.5870      0.128     12.439      0.000       1.336       1.838\n",
       "percent_copper              0.6123      0.139      4.402      0.000       0.339       0.886\n",
       "percent_nickel              0.5979      0.118      5.061      0.000       0.366       0.830\n",
       "percent_carbon             -0.1744      0.046     -3.821      0.000      -0.264      -0.085\n",
       "percent_manganese           0.1220      0.016      7.872      0.000       0.092       0.152\n",
       "==============================================================================\n",
       "Omnibus:                        0.399   Durbin-Watson:                   1.234\n",
       "Prob(Omnibus):                  0.819   Jarque-Bera (JB):                0.402\n",
       "Skew:                           0.065   Prob(JB):                        0.818\n",
       "Kurtosis:                       2.976   Cond. No.                     9.27e+04\n",
       "==============================================================================\n",
       "\n",
       "Warnings:\n",
       "[1] Standard Errors assume that the covariance matrix of the errors is correctly specified.\n",
       "[2] The condition number is large, 9.27e+04. This might indicate that there are\n",
       "strong multicollinearity or other numerical problems.\n",
       "\"\"\""
      ]
     },
     "execution_count": 8,
     "metadata": {},
     "output_type": "execute_result"
    }
   ],
   "source": [
    "#Automatic Backward Elimination with p-values only:\n",
    "x = steel_df.iloc[:,[0,1,2,4,5,7,8]].values\n",
    "y = steel_df.iloc[:,9].values\n",
    "\n",
    "\n",
    "import statsmodels.api as sm\n",
    "x_dummy = x\n",
    "x_dummy = sm.add_constant(x_dummy)\n",
    "regressor_OLS = sm.OLS(y,x_dummy).fit()\n",
    "c = ['const']\n",
    "c.extend(steel_df.columns[[0,1,2,4,5,7,8]].tolist())\n",
    "regressor_OLS.summary(xname =c)\n"
   ]
  },
  {
   "cell_type": "code",
   "execution_count": 9,
   "metadata": {},
   "outputs": [
    {
     "data": {
      "text/plain": [
       "<seaborn.axisgrid.PairGrid at 0x2044ddfca58>"
      ]
     },
     "execution_count": 9,
     "metadata": {},
     "output_type": "execute_result"
    },
    {
     "data": {
      "image/png": "[encoded data removed]",
      "text/plain": [
       "<Figure size 180x1080 with 6 Axes>"
      ]
     },
     "metadata": {
      "needs_background": "light"
     },
     "output_type": "display_data"
    }
   ],
   "source": [
    "sns.pairplot(steel_df,x_vars=['tensile_strength'],y_vars=steel_df.columns[[0,1,2,4,5,8]])\n"
   ]
  },
  {
   "cell_type": "code",
   "execution_count": 10,
   "metadata": {},
   "outputs": [
    {
     "data": {
      "text/plain": [
       "<seaborn.axisgrid.PairGrid at 0x2044fa03f28>"
      ]
     },
     "execution_count": 10,
     "metadata": {},
     "output_type": "execute_result"
    },
    {
     "data": {
      "image/png": "[encoded data removed]",
      "text/plain": [
       "<Figure size 180x540 with 3 Axes>"
      ]
     },
     "metadata": {
      "needs_background": "light"
     },
     "output_type": "display_data"
    }
   ],
   "source": [
    "sns.pairplot(steel_df,x_vars=['tensile_strength'],y_vars=steel_df.columns[[3,6,7]])\n"
   ]
  },
  {
   "cell_type": "code",
   "execution_count": 11,
   "metadata": {},
   "outputs": [
    {
     "name": "stdout",
     "output_type": "stream",
     "text": [
      "<class 'pandas.core.frame.DataFrame'>\n",
      "RangeIndex: 553 entries, 0 to 552\n",
      "Data columns (total 10 columns):\n",
      "normalising_temperature    553 non-null float64\n",
      "tempering_temperature      553 non-null int64\n",
      "percent_silicon            553 non-null float64\n",
      "percent_chromium           553 non-null float64\n",
      "percent_copper             553 non-null float64\n",
      "percent_nickel             553 non-null float64\n",
      "percent_sulphur            553 non-null float64\n",
      "percent_carbon             553 non-null float64\n",
      "percent_manganese          553 non-null float64\n",
      "tensile_strength           553 non-null float64\n",
      "dtypes: float64(9), int64(1)\n",
      "memory usage: 43.3 KB\n"
     ]
    }
   ],
   "source": [
    "steel_df.info()"
   ]
  },
  {
   "cell_type": "code",
   "execution_count": 12,
   "metadata": {},
   "outputs": [
    {
     "data": {
      "text/html": [
       "<div>\n",
       "<style scoped>\n",
       "    .dataframe tbody tr th:only-of-type {\n",
       "        vertical-align: middle;\n",
       "    }\n",
       "\n",
       "    .dataframe tbody tr th {\n",
       "        vertical-align: top;\n",
       "    }\n",
       "\n",
       "    .dataframe thead th {\n",
       "        text-align: right;\n",
       "    }\n",
       "</style>\n",
       "<table border=\"1\" class=\"dataframe\">\n",
       "  <thead>\n",
       "    <tr style=\"text-align: right;\">\n",
       "      <th></th>\n",
       "      <th>normalising_temperature</th>\n",
       "      <th>tempering_temperature</th>\n",
       "      <th>percent_silicon</th>\n",
       "      <th>percent_chromium</th>\n",
       "      <th>percent_copper</th>\n",
       "      <th>percent_nickel</th>\n",
       "      <th>percent_sulphur</th>\n",
       "      <th>percent_carbon</th>\n",
       "      <th>percent_manganese</th>\n",
       "      <th>tensile_strength</th>\n",
       "    </tr>\n",
       "  </thead>\n",
       "  <tbody>\n",
       "    <tr>\n",
       "      <td>count</td>\n",
       "      <td>553.000000</td>\n",
       "      <td>553.000000</td>\n",
       "      <td>553.000000</td>\n",
       "      <td>553.000000</td>\n",
       "      <td>553.000000</td>\n",
       "      <td>553.000000</td>\n",
       "      <td>553.000000</td>\n",
       "      <td>553.000000</td>\n",
       "      <td>553.000000</td>\n",
       "      <td>553.000000</td>\n",
       "    </tr>\n",
       "    <tr>\n",
       "      <td>mean</td>\n",
       "      <td>478.205222</td>\n",
       "      <td>752.124774</td>\n",
       "      <td>0.063890</td>\n",
       "      <td>1.277492</td>\n",
       "      <td>0.784018</td>\n",
       "      <td>0.972592</td>\n",
       "      <td>0.059302</td>\n",
       "      <td>1.817157</td>\n",
       "      <td>0.577192</td>\n",
       "      <td>0.405968</td>\n",
       "    </tr>\n",
       "    <tr>\n",
       "      <td>std</td>\n",
       "      <td>162.317845</td>\n",
       "      <td>259.220817</td>\n",
       "      <td>0.080655</td>\n",
       "      <td>0.260280</td>\n",
       "      <td>0.068589</td>\n",
       "      <td>0.074270</td>\n",
       "      <td>0.055396</td>\n",
       "      <td>0.185422</td>\n",
       "      <td>0.623316</td>\n",
       "      <td>0.206434</td>\n",
       "    </tr>\n",
       "    <tr>\n",
       "      <td>min</td>\n",
       "      <td>178.500000</td>\n",
       "      <td>225.000000</td>\n",
       "      <td>0.000000</td>\n",
       "      <td>0.745783</td>\n",
       "      <td>0.594000</td>\n",
       "      <td>0.801000</td>\n",
       "      <td>0.000000</td>\n",
       "      <td>1.378000</td>\n",
       "      <td>0.000000</td>\n",
       "      <td>0.000000</td>\n",
       "    </tr>\n",
       "    <tr>\n",
       "      <td>25%</td>\n",
       "      <td>382.987500</td>\n",
       "      <td>550.000000</td>\n",
       "      <td>0.000000</td>\n",
       "      <td>1.065888</td>\n",
       "      <td>0.753450</td>\n",
       "      <td>0.932000</td>\n",
       "      <td>0.000000</td>\n",
       "      <td>1.680800</td>\n",
       "      <td>0.000000</td>\n",
       "      <td>0.256816</td>\n",
       "    </tr>\n",
       "    <tr>\n",
       "      <td>50%</td>\n",
       "      <td>465.850000</td>\n",
       "      <td>900.000000</td>\n",
       "      <td>0.000000</td>\n",
       "      <td>1.286314</td>\n",
       "      <td>0.784000</td>\n",
       "      <td>0.968000</td>\n",
       "      <td>0.061000</td>\n",
       "      <td>1.857000</td>\n",
       "      <td>0.244600</td>\n",
       "      <td>0.384468</td>\n",
       "    </tr>\n",
       "    <tr>\n",
       "      <td>75%</td>\n",
       "      <td>570.500000</td>\n",
       "      <td>900.000000</td>\n",
       "      <td>0.129800</td>\n",
       "      <td>1.492220</td>\n",
       "      <td>0.830000</td>\n",
       "      <td>1.028100</td>\n",
       "      <td>0.101000</td>\n",
       "      <td>1.920000</td>\n",
       "      <td>1.175400</td>\n",
       "      <td>0.527049</td>\n",
       "    </tr>\n",
       "    <tr>\n",
       "      <td>max</td>\n",
       "      <td>945.000000</td>\n",
       "      <td>950.000000</td>\n",
       "      <td>0.359400</td>\n",
       "      <td>1.794173</td>\n",
       "      <td>0.945000</td>\n",
       "      <td>1.125000</td>\n",
       "      <td>0.322000</td>\n",
       "      <td>2.470000</td>\n",
       "      <td>1.950000</td>\n",
       "      <td>1.000000</td>\n",
       "    </tr>\n",
       "  </tbody>\n",
       "</table>\n",
       "</div>"
      ],
      "text/plain": [
       "       normalising_temperature  tempering_temperature  percent_silicon  \\\n",
       "count               553.000000             553.000000       553.000000   \n",
       "mean                478.205222             752.124774         0.063890   \n",
       "std                 162.317845             259.220817         0.080655   \n",
       "min                 178.500000             225.000000         0.000000   \n",
       "25%                 382.987500             550.000000         0.000000   \n",
       "50%                 465.850000             900.000000         0.000000   \n",
       "75%                 570.500000             900.000000         0.129800   \n",
       "max                 945.000000             950.000000         0.359400   \n",
       "\n",
       "       percent_chromium  percent_copper  percent_nickel  percent_sulphur  \\\n",
       "count        553.000000      553.000000      553.000000       553.000000   \n",
       "mean           1.277492        0.784018        0.972592         0.059302   \n",
       "std            0.260280        0.068589        0.074270         0.055396   \n",
       "min            0.745783        0.594000        0.801000         0.000000   \n",
       "25%            1.065888        0.753450        0.932000         0.000000   \n",
       "50%            1.286314        0.784000        0.968000         0.061000   \n",
       "75%            1.492220        0.830000        1.028100         0.101000   \n",
       "max            1.794173        0.945000        1.125000         0.322000   \n",
       "\n",
       "       percent_carbon  percent_manganese  tensile_strength  \n",
       "count      553.000000         553.000000        553.000000  \n",
       "mean         1.817157           0.577192          0.405968  \n",
       "std          0.185422           0.623316          0.206434  \n",
       "min          1.378000           0.000000          0.000000  \n",
       "25%          1.680800           0.000000          0.256816  \n",
       "50%          1.857000           0.244600          0.384468  \n",
       "75%          1.920000           1.175400          0.527049  \n",
       "max          2.470000           1.950000          1.000000  "
      ]
     },
     "execution_count": 12,
     "metadata": {},
     "output_type": "execute_result"
    }
   ],
   "source": [
    "steel_df.describe()"
   ]
  },
  {
   "cell_type": "code",
   "execution_count": 13,
   "metadata": {},
   "outputs": [
    {
     "data": {
      "text/html": [
       "<div>\n",
       "<style scoped>\n",
       "    .dataframe tbody tr th:only-of-type {\n",
       "        vertical-align: middle;\n",
       "    }\n",
       "\n",
       "    .dataframe tbody tr th {\n",
       "        vertical-align: top;\n",
       "    }\n",
       "\n",
       "    .dataframe thead th {\n",
       "        text-align: right;\n",
       "    }\n",
       "</style>\n",
       "<table border=\"1\" class=\"dataframe\">\n",
       "  <thead>\n",
       "    <tr style=\"text-align: right;\">\n",
       "      <th></th>\n",
       "      <th>normalising_temperature</th>\n",
       "      <th>tempering_temperature</th>\n",
       "      <th>percent_silicon</th>\n",
       "      <th>percent_chromium</th>\n",
       "      <th>percent_copper</th>\n",
       "      <th>percent_nickel</th>\n",
       "      <th>percent_sulphur</th>\n",
       "      <th>percent_carbon</th>\n",
       "      <th>percent_manganese</th>\n",
       "      <th>tensile_strength</th>\n",
       "    </tr>\n",
       "  </thead>\n",
       "  <tbody>\n",
       "    <tr>\n",
       "      <td>normalising_temperature</td>\n",
       "      <td>1.0</td>\n",
       "      <td>NaN</td>\n",
       "      <td>NaN</td>\n",
       "      <td>NaN</td>\n",
       "      <td>NaN</td>\n",
       "      <td>NaN</td>\n",
       "      <td>NaN</td>\n",
       "      <td>NaN</td>\n",
       "      <td>NaN</td>\n",
       "      <td>NaN</td>\n",
       "    </tr>\n",
       "    <tr>\n",
       "      <td>tempering_temperature</td>\n",
       "      <td>NaN</td>\n",
       "      <td>1.0</td>\n",
       "      <td>NaN</td>\n",
       "      <td>NaN</td>\n",
       "      <td>NaN</td>\n",
       "      <td>NaN</td>\n",
       "      <td>NaN</td>\n",
       "      <td>NaN</td>\n",
       "      <td>NaN</td>\n",
       "      <td>NaN</td>\n",
       "    </tr>\n",
       "    <tr>\n",
       "      <td>percent_silicon</td>\n",
       "      <td>NaN</td>\n",
       "      <td>NaN</td>\n",
       "      <td>1.0</td>\n",
       "      <td>NaN</td>\n",
       "      <td>NaN</td>\n",
       "      <td>NaN</td>\n",
       "      <td>NaN</td>\n",
       "      <td>NaN</td>\n",
       "      <td>NaN</td>\n",
       "      <td>NaN</td>\n",
       "    </tr>\n",
       "    <tr>\n",
       "      <td>percent_chromium</td>\n",
       "      <td>NaN</td>\n",
       "      <td>NaN</td>\n",
       "      <td>NaN</td>\n",
       "      <td>1.0</td>\n",
       "      <td>NaN</td>\n",
       "      <td>NaN</td>\n",
       "      <td>NaN</td>\n",
       "      <td>NaN</td>\n",
       "      <td>NaN</td>\n",
       "      <td>NaN</td>\n",
       "    </tr>\n",
       "    <tr>\n",
       "      <td>percent_copper</td>\n",
       "      <td>NaN</td>\n",
       "      <td>NaN</td>\n",
       "      <td>NaN</td>\n",
       "      <td>NaN</td>\n",
       "      <td>1.0</td>\n",
       "      <td>NaN</td>\n",
       "      <td>NaN</td>\n",
       "      <td>NaN</td>\n",
       "      <td>NaN</td>\n",
       "      <td>NaN</td>\n",
       "    </tr>\n",
       "    <tr>\n",
       "      <td>percent_nickel</td>\n",
       "      <td>NaN</td>\n",
       "      <td>NaN</td>\n",
       "      <td>NaN</td>\n",
       "      <td>NaN</td>\n",
       "      <td>NaN</td>\n",
       "      <td>1.0</td>\n",
       "      <td>NaN</td>\n",
       "      <td>NaN</td>\n",
       "      <td>NaN</td>\n",
       "      <td>NaN</td>\n",
       "    </tr>\n",
       "    <tr>\n",
       "      <td>percent_sulphur</td>\n",
       "      <td>NaN</td>\n",
       "      <td>NaN</td>\n",
       "      <td>NaN</td>\n",
       "      <td>NaN</td>\n",
       "      <td>NaN</td>\n",
       "      <td>NaN</td>\n",
       "      <td>1.0</td>\n",
       "      <td>NaN</td>\n",
       "      <td>NaN</td>\n",
       "      <td>NaN</td>\n",
       "    </tr>\n",
       "    <tr>\n",
       "      <td>percent_carbon</td>\n",
       "      <td>NaN</td>\n",
       "      <td>NaN</td>\n",
       "      <td>NaN</td>\n",
       "      <td>NaN</td>\n",
       "      <td>NaN</td>\n",
       "      <td>NaN</td>\n",
       "      <td>NaN</td>\n",
       "      <td>1.0</td>\n",
       "      <td>NaN</td>\n",
       "      <td>NaN</td>\n",
       "    </tr>\n",
       "    <tr>\n",
       "      <td>percent_manganese</td>\n",
       "      <td>NaN</td>\n",
       "      <td>NaN</td>\n",
       "      <td>NaN</td>\n",
       "      <td>NaN</td>\n",
       "      <td>NaN</td>\n",
       "      <td>NaN</td>\n",
       "      <td>NaN</td>\n",
       "      <td>NaN</td>\n",
       "      <td>1.0</td>\n",
       "      <td>NaN</td>\n",
       "    </tr>\n",
       "    <tr>\n",
       "      <td>tensile_strength</td>\n",
       "      <td>NaN</td>\n",
       "      <td>NaN</td>\n",
       "      <td>NaN</td>\n",
       "      <td>NaN</td>\n",
       "      <td>NaN</td>\n",
       "      <td>NaN</td>\n",
       "      <td>NaN</td>\n",
       "      <td>NaN</td>\n",
       "      <td>NaN</td>\n",
       "      <td>1.0</td>\n",
       "    </tr>\n",
       "  </tbody>\n",
       "</table>\n",
       "</div>"
      ],
      "text/plain": [
       "                         normalising_temperature  tempering_temperature  \\\n",
       "normalising_temperature                      1.0                    NaN   \n",
       "tempering_temperature                        NaN                    1.0   \n",
       "percent_silicon                              NaN                    NaN   \n",
       "percent_chromium                             NaN                    NaN   \n",
       "percent_copper                               NaN                    NaN   \n",
       "percent_nickel                               NaN                    NaN   \n",
       "percent_sulphur                              NaN                    NaN   \n",
       "percent_carbon                               NaN                    NaN   \n",
       "percent_manganese                            NaN                    NaN   \n",
       "tensile_strength                             NaN                    NaN   \n",
       "\n",
       "                         percent_silicon  percent_chromium  percent_copper  \\\n",
       "normalising_temperature              NaN               NaN             NaN   \n",
       "tempering_temperature                NaN               NaN             NaN   \n",
       "percent_silicon                      1.0               NaN             NaN   \n",
       "percent_chromium                     NaN               1.0             NaN   \n",
       "percent_copper                       NaN               NaN             1.0   \n",
       "percent_nickel                       NaN               NaN             NaN   \n",
       "percent_sulphur                      NaN               NaN             NaN   \n",
       "percent_carbon                       NaN               NaN             NaN   \n",
       "percent_manganese                    NaN               NaN             NaN   \n",
       "tensile_strength                     NaN               NaN             NaN   \n",
       "\n",
       "                         percent_nickel  percent_sulphur  percent_carbon  \\\n",
       "normalising_temperature             NaN              NaN             NaN   \n",
       "tempering_temperature               NaN              NaN             NaN   \n",
       "percent_silicon                     NaN              NaN             NaN   \n",
       "percent_chromium                    NaN              NaN             NaN   \n",
       "percent_copper                      NaN              NaN             NaN   \n",
       "percent_nickel                      1.0              NaN             NaN   \n",
       "percent_sulphur                     NaN              1.0             NaN   \n",
       "percent_carbon                      NaN              NaN             1.0   \n",
       "percent_manganese                   NaN              NaN             NaN   \n",
       "tensile_strength                    NaN              NaN             NaN   \n",
       "\n",
       "                         percent_manganese  tensile_strength  \n",
       "normalising_temperature                NaN               NaN  \n",
       "tempering_temperature                  NaN               NaN  \n",
       "percent_silicon                        NaN               NaN  \n",
       "percent_chromium                       NaN               NaN  \n",
       "percent_copper                         NaN               NaN  \n",
       "percent_nickel                         NaN               NaN  \n",
       "percent_sulphur                        NaN               NaN  \n",
       "percent_carbon                         NaN               NaN  \n",
       "percent_manganese                      1.0               NaN  \n",
       "tensile_strength                       NaN               1.0  "
      ]
     },
     "execution_count": 13,
     "metadata": {},
     "output_type": "execute_result"
    }
   ],
   "source": [
    "cor_df = steel_df.corr()\n",
    "\n",
    "cor_df[(cor_df > 0.70) | (cor_df < -0.70)]"
   ]
  },
  {
   "cell_type": "code",
   "execution_count": 14,
   "metadata": {},
   "outputs": [],
   "source": [
    "from sklearn.model_selection import train_test_split\n",
    "x_train, x_test, y_train, y_test = train_test_split(x, y, test_size = 0.33, random_state = 0)\n",
    "\n",
    "from sklearn.metrics import mean_squared_error,mean_absolute_error\n",
    "from sklearn.metrics import r2_score\n",
    "\n",
    "def get_metrics(y_test,y_pred):\n",
    "    r2 = r2_score(y_test, y_pred)\n",
    "    n = len(x_train)\n",
    "    k = x_train.shape[1]\n",
    "    aj_r2 = 1 - (((1-r2)*(n-1))/(n-k-1))\n",
    "    rmse = np.sqrt(mean_squared_error(y_test, y_pred))\n",
    "    mae = mean_absolute_error(y_test, y_pred)\n",
    "    print('RMSE   : {:.3f}\\n\\nMAE    : {:.3f}\\n\\nR2     : {:.3f}\\n\\nAjd R2 : {:.3f}'.format(rmse,mae,r2,aj_r2))\n",
    "def get_adj_r2_frm_r2(r2):\n",
    "    n = len(x_train)\n",
    "    k = x_train.shape[1]\n",
    "    aj_r2 = 1 - (((1-r2)*(n-1))/(n-k-1))\n",
    "    return aj_r2\n",
    "    "
   ]
  },
  {
   "cell_type": "markdown",
   "metadata": {},
   "source": [
    "# Random Forest"
   ]
  },
  {
   "cell_type": "markdown",
   "metadata": {},
   "source": [
    "Impurity = MSE\n",
    "\n",
    "Value at each node is average of the y values in that data subset.\n",
    "\n",
    "Here we split a data based on threshold and then we calculate mse = 1/n sum(y_act - y_pred)2 (measuring homogenity by variance)\n",
    "\n",
    "Best split threshold gives us the best minimum overall mse\n",
    "\n",
    "here y_act is the actual data point\n",
    "     y_pred is the average of all actual data points in that group.\n",
    "     \n",
    "Spliting stops when\n",
    "\n",
    "    - We have only one data point in a node\n",
    "    - When all the data points in the node have same value (i.e = same as average)\n",
    "    - Min sample per slipt"
   ]
  },
  {
   "cell_type": "code",
   "execution_count": 15,
   "metadata": {},
   "outputs": [
    {
     "data": {
      "text/plain": [
       "RandomForestRegressor(bootstrap=True, criterion='mse', max_depth=None,\n",
       "                      max_features=5, max_leaf_nodes=None,\n",
       "                      min_impurity_decrease=0.0, min_impurity_split=None,\n",
       "                      min_samples_leaf=1, min_samples_split=3,\n",
       "                      min_weight_fraction_leaf=0.0, n_estimators=50,\n",
       "                      n_jobs=None, oob_score=False, random_state=0, verbose=0,\n",
       "                      warm_start=False)"
      ]
     },
     "execution_count": 15,
     "metadata": {},
     "output_type": "execute_result"
    }
   ],
   "source": [
    "# Fitting Random Forest Regression to the dataset\n",
    "from sklearn.ensemble import RandomForestRegressor\n",
    "regressor_rf = RandomForestRegressor(n_estimators = 50, random_state = 0,criterion='mse',max_features = 5,min_samples_split = 3)\n",
    "regressor_rf.fit(x_train, y_train)"
   ]
  },
  {
   "cell_type": "code",
   "execution_count": 16,
   "metadata": {},
   "outputs": [
    {
     "data": {
      "text/plain": [
       "0.9254537071994217"
      ]
     },
     "execution_count": 16,
     "metadata": {},
     "output_type": "execute_result"
    }
   ],
   "source": [
    "from sklearn.model_selection import cross_val_score,cross_val_predict\n",
    "accuracies_rf = cross_val_score(estimator = regressor_rf, X = x_train, y = y_train, cv = 10,scoring='r2')\n",
    "np.sqrt(accuracies_rf.mean())"
   ]
  },
  {
   "cell_type": "code",
   "execution_count": 17,
   "metadata": {},
   "outputs": [
    {
     "name": "stdout",
     "output_type": "stream",
     "text": [
      "RMSE   : 0.081\n",
      "\n",
      "MAE    : 0.057\n",
      "\n",
      "R2     : 0.866\n",
      "\n",
      "Ajd R2 : 0.863\n"
     ]
    }
   ],
   "source": [
    "y_pred_rf = regressor_rf.predict(x_test)\n",
    "get_metrics(y_test,y_pred_rf)"
   ]
  },
  {
   "cell_type": "markdown",
   "metadata": {},
   "source": [
    "## Decision Tree "
   ]
  },
  {
   "cell_type": "code",
   "execution_count": 18,
   "metadata": {},
   "outputs": [
    {
     "data": {
      "text/plain": [
       "DecisionTreeRegressor(criterion='mse', max_depth=13, max_features=None,\n",
       "                      max_leaf_nodes=40, min_impurity_decrease=0.0,\n",
       "                      min_impurity_split=None, min_samples_leaf=1,\n",
       "                      min_samples_split=3, min_weight_fraction_leaf=0.0,\n",
       "                      presort=False, random_state=0, splitter='best')"
      ]
     },
     "execution_count": 18,
     "metadata": {},
     "output_type": "execute_result"
    }
   ],
   "source": [
    "from sklearn.tree import DecisionTreeRegressor\n",
    "regressor_dt = DecisionTreeRegressor(random_state=0,min_samples_split = 3,max_leaf_nodes = 40,max_depth = 13)\n",
    "regressor_dt.fit(x_train, y_train)"
   ]
  },
  {
   "cell_type": "code",
   "execution_count": 19,
   "metadata": {},
   "outputs": [
    {
     "data": {
      "text/plain": [
       "0.844215092437075"
      ]
     },
     "execution_count": 19,
     "metadata": {},
     "output_type": "execute_result"
    }
   ],
   "source": [
    "from sklearn.model_selection import cross_val_score,cross_val_predict\n",
    "accuracies_dt = cross_val_score(estimator = regressor_dt, X = x_train, y = y_train, cv = 10,scoring='r2')\n",
    "np.sqrt(accuracies_dt.mean())"
   ]
  },
  {
   "cell_type": "code",
   "execution_count": 20,
   "metadata": {},
   "outputs": [
    {
     "name": "stdout",
     "output_type": "stream",
     "text": [
      "RMSE   : 0.101\n",
      "\n",
      "MAE    : 0.077\n",
      "\n",
      "R2     : 0.789\n",
      "\n",
      "Ajd R2 : 0.785\n"
     ]
    }
   ],
   "source": [
    "y_pred_dt = regressor_dt.predict(x_test)\n",
    "get_metrics(y_test,y_pred_dt)"
   ]
  },
  {
   "cell_type": "markdown",
   "metadata": {},
   "source": [
    "# Standard scaler ( Models below take in scaled inputs) "
   ]
  },
  {
   "cell_type": "code",
   "execution_count": 21,
   "metadata": {},
   "outputs": [],
   "source": [
    "from sklearn.preprocessing import StandardScaler\n",
    "sc_X = StandardScaler()\n",
    "\n",
    "X_train = sc_X.fit_transform(x_train)\n",
    "\n",
    "X_test = sc_X.transform(x_test)\n"
   ]
  },
  {
   "cell_type": "markdown",
   "metadata": {},
   "source": [
    "# Linear Regression"
   ]
  },
  {
   "cell_type": "code",
   "execution_count": 22,
   "metadata": {},
   "outputs": [
    {
     "data": {
      "text/plain": [
       "LinearRegression(copy_X=True, fit_intercept=True, n_jobs=None, normalize=False)"
      ]
     },
     "execution_count": 22,
     "metadata": {},
     "output_type": "execute_result"
    }
   ],
   "source": [
    "from sklearn.linear_model import LinearRegression\n",
    "regressor_lr = LinearRegression()\n",
    "regressor_lr.fit(X_train, y_train)\n"
   ]
  },
  {
   "cell_type": "code",
   "execution_count": 23,
   "metadata": {},
   "outputs": [
    {
     "data": {
      "text/plain": [
       "0.8712404355641192"
      ]
     },
     "execution_count": 23,
     "metadata": {},
     "output_type": "execute_result"
    }
   ],
   "source": [
    "accuracies_xg = cross_val_score(estimator = regressor_lr, X = X_train, y = y_train, cv = 10,scoring='r2')\n",
    "np.sqrt(accuracies_xg.mean())"
   ]
  },
  {
   "cell_type": "code",
   "execution_count": 24,
   "metadata": {},
   "outputs": [
    {
     "name": "stdout",
     "output_type": "stream",
     "text": [
      "RMSE   : 0.092\n",
      "\n",
      "MAE    : 0.076\n",
      "\n",
      "R2     : 0.826\n",
      "\n",
      "Ajd R2 : 0.823\n"
     ]
    }
   ],
   "source": [
    "y_pred_lr = regressor_lr.predict(X_test)\n",
    "get_metrics(y_test,y_pred_lr)"
   ]
  },
  {
   "cell_type": "markdown",
   "metadata": {},
   "source": [
    "## Ridge regression"
   ]
  },
  {
   "cell_type": "code",
   "execution_count": 25,
   "metadata": {},
   "outputs": [
    {
     "data": {
      "text/plain": [
       "Ridge(alpha=0.05, copy_X=True, fit_intercept=True, max_iter=None,\n",
       "      normalize=False, random_state=None, solver='auto', tol=0.001)"
      ]
     },
     "execution_count": 25,
     "metadata": {},
     "output_type": "execute_result"
    }
   ],
   "source": [
    "from sklearn import linear_model\n",
    "\n",
    "regressor_ridge = linear_model.Ridge(alpha = 0.05)\n",
    "regressor_ridge.fit(x_train,y_train)"
   ]
  },
  {
   "cell_type": "code",
   "execution_count": 26,
   "metadata": {},
   "outputs": [
    {
     "name": "stdout",
     "output_type": "stream",
     "text": [
      "RMSE   : 0.092\n",
      "\n",
      "MAE    : 0.076\n",
      "\n",
      "R2     : 0.826\n",
      "\n",
      "Ajd R2 : 0.823\n"
     ]
    }
   ],
   "source": [
    "y_pred_ridge = regressor_ridge.predict(x_test)\n",
    "get_metrics(y_test,y_pred_ridge)"
   ]
  },
  {
   "cell_type": "markdown",
   "metadata": {},
   "source": [
    "# SVR"
   ]
  },
  {
   "cell_type": "markdown",
   "metadata": {},
   "source": [
    "Similar to SVM used for classification here we use Kernel trick to project the data into higher dimensional space to get separability.\n",
    "\n",
    "Kernels available are - polynomial,gaussian (rbf) ,sigmoid etc\n",
    "\n",
    "In regression we limit the error rate by defining a threshold called epsilon.\n",
    "\n",
    "That is the  boundry line above and below comprises of data points that accounts for variablity explained by hyper plane.\n",
    "\n",
    "We ignore points that are outside our decision boundry.\n",
    "\n",
    "https://medium.com/coinmonks/support-vector-regression-or-svr-8eb3acf6d0ff"
   ]
  },
  {
   "cell_type": "code",
   "execution_count": 27,
   "metadata": {},
   "outputs": [
    {
     "data": {
      "text/plain": [
       "SVR(C=2, cache_size=200, coef0=0.0, degree=3, epsilon=0.001, gamma=0.1,\n",
       "    kernel='rbf', max_iter=-1, shrinking=True, tol=0.001, verbose=False)"
      ]
     },
     "execution_count": 27,
     "metadata": {},
     "output_type": "execute_result"
    }
   ],
   "source": [
    "\n",
    "\n",
    "# Fitting SVR to the dataset\n",
    "from sklearn.svm import SVR\n",
    "regressor_svr = SVR(kernel = 'rbf',epsilon =0.001,C=2,gamma=0.1)\n",
    "regressor_svr.fit(X_train, y_train)\n",
    "\n",
    "# Predicting a new result\n"
   ]
  },
  {
   "cell_type": "code",
   "execution_count": 28,
   "metadata": {},
   "outputs": [
    {
     "data": {
      "text/plain": [
       "0.9166639996837802"
      ]
     },
     "execution_count": 28,
     "metadata": {},
     "output_type": "execute_result"
    }
   ],
   "source": [
    "from sklearn.model_selection import cross_val_score,cross_val_predict\n",
    "accuracies_svr = cross_val_score(estimator = regressor_svr, X = X_train, y = y_train, cv = 10,scoring='r2')\n",
    "np.sqrt(accuracies_svr.mean())"
   ]
  },
  {
   "cell_type": "code",
   "execution_count": 29,
   "metadata": {},
   "outputs": [
    {
     "name": "stdout",
     "output_type": "stream",
     "text": [
      "RMSE   : 0.075\n",
      "\n",
      "MAE    : 0.053\n",
      "\n",
      "R2     : 0.886\n",
      "\n",
      "Ajd R2 : 0.883\n"
     ]
    }
   ],
   "source": [
    "y_pred_svm = regressor_svr.predict(X_test)\n",
    "get_metrics(y_test,y_pred_svm)"
   ]
  },
  {
   "cell_type": "markdown",
   "metadata": {},
   "source": [
    "# KNN"
   ]
  },
  {
   "cell_type": "code",
   "execution_count": 30,
   "metadata": {},
   "outputs": [
    {
     "data": {
      "text/plain": [
       "KNeighborsRegressor(algorithm='auto', leaf_size=30, metric='minkowski',\n",
       "                    metric_params=None, n_jobs=None, n_neighbors=5, p=2,\n",
       "                    weights='distance')"
      ]
     },
     "execution_count": 30,
     "metadata": {},
     "output_type": "execute_result"
    }
   ],
   "source": [
    "from sklearn.neighbors import KNeighborsRegressor\n",
    "regressor_knn = KNeighborsRegressor(n_neighbors = 5,weights='distance',p=2)\n",
    "regressor_knn.fit(X_train, y_train)\n"
   ]
  },
  {
   "cell_type": "code",
   "execution_count": 31,
   "metadata": {},
   "outputs": [
    {
     "data": {
      "text/plain": [
       "0.8969298015346291"
      ]
     },
     "execution_count": 31,
     "metadata": {},
     "output_type": "execute_result"
    }
   ],
   "source": [
    "from sklearn.model_selection import cross_val_score,cross_val_predict\n",
    "accuracies_knn = cross_val_score(estimator = regressor_knn, X = X_train, y = y_train, cv = 10,scoring='r2')\n",
    "np.sqrt(accuracies_knn.mean())"
   ]
  },
  {
   "cell_type": "code",
   "execution_count": 32,
   "metadata": {},
   "outputs": [
    {
     "name": "stdout",
     "output_type": "stream",
     "text": [
      "RMSE   : 0.086\n",
      "\n",
      "MAE    : 0.060\n",
      "\n",
      "R2     : 0.850\n",
      "\n",
      "Ajd R2 : 0.847\n"
     ]
    }
   ],
   "source": [
    "y_pred_knn = regressor_knn.predict(X_test)\n",
    "get_metrics(y_test,y_pred_knn)"
   ]
  },
  {
   "cell_type": "markdown",
   "metadata": {},
   "source": [
    "# XGBOOST"
   ]
  },
  {
   "cell_type": "code",
   "execution_count": 33,
   "metadata": {},
   "outputs": [
    {
     "name": "stdout",
     "output_type": "stream",
     "text": [
      "[20:00:23] WARNING: src/objective/regression_obj.cu:152: reg:linear is now deprecated in favor of reg:squarederror.\n"
     ]
    },
    {
     "data": {
      "text/plain": [
       "XGBRegressor(base_score=0.5, booster='gbtree', colsample_bylevel=1,\n",
       "             colsample_bynode=1, colsample_bytree=0.8, gamma=0,\n",
       "             importance_type='gain', learning_rate=0.1, max_delta_step=0,\n",
       "             max_depth=6, min_child_weight=1, missing=None, n_estimators=100,\n",
       "             n_jobs=1, nthread=None, objective='reg:linear', random_state=0,\n",
       "             reg_alpha=0, reg_lambda=1, scale_pos_weight=1, seed=None,\n",
       "             silent=None, subsample=0.65, verbosity=1)"
      ]
     },
     "execution_count": 33,
     "metadata": {},
     "output_type": "execute_result"
    }
   ],
   "source": [
    "from xgboost import XGBRegressor\n",
    "regressor_xg = xgb = XGBRegressor(n_estimators=100, learning_rate=0.1, gamma=0, subsample=0.65,\n",
    "                           colsample_bytree=0.8, max_depth=6) \n",
    "\n",
    "regressor_xg.fit(X_train, y_train)\n"
   ]
  },
  {
   "cell_type": "code",
   "execution_count": 34,
   "metadata": {},
   "outputs": [
    {
     "name": "stdout",
     "output_type": "stream",
     "text": [
      "[20:00:23] WARNING: src/objective/regression_obj.cu:152: reg:linear is now deprecated in favor of reg:squarederror.\n",
      "[20:00:24] WARNING: src/objective/regression_obj.cu:152: reg:linear is now deprecated in favor of reg:squarederror.\n",
      "[20:00:24] WARNING: src/objective/regression_obj.cu:152: reg:linear is now deprecated in favor of reg:squarederror.\n",
      "[20:00:24] WARNING: src/objective/regression_obj.cu:152: reg:linear is now deprecated in favor of reg:squarederror.\n",
      "[20:00:24] WARNING: src/objective/regression_obj.cu:152: reg:linear is now deprecated in favor of reg:squarederror.\n",
      "[20:00:24] WARNING: src/objective/regression_obj.cu:152: reg:linear is now deprecated in favor of reg:squarederror.\n",
      "[20:00:24] WARNING: src/objective/regression_obj.cu:152: reg:linear is now deprecated in favor of reg:squarederror.\n",
      "[20:00:24] WARNING: src/objective/regression_obj.cu:152: reg:linear is now deprecated in favor of reg:squarederror.\n",
      "[20:00:24] WARNING: src/objective/regression_obj.cu:152: reg:linear is now deprecated in favor of reg:squarederror.\n",
      "[20:00:24] WARNING: src/objective/regression_obj.cu:152: reg:linear is now deprecated in favor of reg:squarederror.\n"
     ]
    },
    {
     "data": {
      "text/plain": [
       "0.9454826354733932"
      ]
     },
     "execution_count": 34,
     "metadata": {},
     "output_type": "execute_result"
    }
   ],
   "source": [
    "from sklearn.model_selection import cross_val_score,cross_val_predict\n",
    "accuracies_xg = cross_val_score(estimator = regressor_xg, X = X_train, y = y_train, cv = 10,scoring='r2')\n",
    "get_adj_r2_frm_r2(np.sqrt(accuracies_xg.mean()))\n"
   ]
  },
  {
   "cell_type": "code",
   "execution_count": 35,
   "metadata": {},
   "outputs": [
    {
     "name": "stdout",
     "output_type": "stream",
     "text": [
      "RMSE   : 0.067\n",
      "\n",
      "MAE    : 0.046\n",
      "\n",
      "R2     : 0.907\n",
      "\n",
      "Ajd R2 : 0.906\n"
     ]
    }
   ],
   "source": [
    "y_pred_xg = regressor_xg.predict(X_test)\n",
    "get_metrics(y_test,y_pred_xg)"
   ]
  },
  {
   "cell_type": "markdown",
   "metadata": {},
   "source": [
    "## Gradient Boosting"
   ]
  },
  {
   "cell_type": "markdown",
   "metadata": {},
   "source": [
    " Deision tree split logic same as explained in Random forest."
   ]
  },
  {
   "cell_type": "code",
   "execution_count": 36,
   "metadata": {},
   "outputs": [
    {
     "data": {
      "text/plain": [
       "GradientBoostingRegressor(alpha=0.9, criterion='friedman_mse', init=None,\n",
       "                          learning_rate=0.1, loss='ls', max_depth=5,\n",
       "                          max_features=4, max_leaf_nodes=30,\n",
       "                          min_impurity_decrease=0.0, min_impurity_split=None,\n",
       "                          min_samples_leaf=1, min_samples_split=2,\n",
       "                          min_weight_fraction_leaf=0.0, n_estimators=75,\n",
       "                          n_iter_no_change=None, presort='auto',\n",
       "                          random_state=10, subsample=1.0, tol=0.0001,\n",
       "                          validation_fraction=0.1, verbose=0, warm_start=False)"
      ]
     },
     "execution_count": 36,
     "metadata": {},
     "output_type": "execute_result"
    }
   ],
   "source": [
    "from sklearn.ensemble import GradientBoostingRegressor\n",
    "\n",
    "regressor_gb = GradientBoostingRegressor(loss='ls',learning_rate=0.1, n_estimators=75,max_depth = 5,max_features = 4,max_leaf_nodes=30,random_state = 10)\n",
    "regressor_gb.fit(X_train, y_train)\n"
   ]
  },
  {
   "cell_type": "code",
   "execution_count": 37,
   "metadata": {},
   "outputs": [
    {
     "data": {
      "text/plain": [
       "0.9335823773738117"
      ]
     },
     "execution_count": 37,
     "metadata": {},
     "output_type": "execute_result"
    }
   ],
   "source": [
    "from sklearn.model_selection import cross_val_score,cross_val_predict\n",
    "accuracies_gb = cross_val_score(estimator = regressor_gb, X = X_train, y = y_train, cv = 10,scoring='r2')\n",
    "get_adj_r2_frm_r2(np.sqrt(accuracies_gb.mean()))"
   ]
  },
  {
   "cell_type": "code",
   "execution_count": 38,
   "metadata": {},
   "outputs": [
    {
     "name": "stdout",
     "output_type": "stream",
     "text": [
      "RMSE   : 0.066\n",
      "\n",
      "MAE    : 0.044\n",
      "\n",
      "R2     : 0.911\n",
      "\n",
      "Ajd R2 : 0.909\n"
     ]
    }
   ],
   "source": [
    "y_pred_gb = regressor_gb.predict(X_test)\n",
    "get_metrics(y_test,y_pred_gb)"
   ]
  },
  {
   "cell_type": "markdown",
   "metadata": {},
   "source": [
    "## MLP"
   ]
  },
  {
   "cell_type": "code",
   "execution_count": 39,
   "metadata": {},
   "outputs": [
    {
     "data": {
      "text/plain": [
       "MLPRegressor(activation='logistic', alpha=0.01, batch_size='auto', beta_1=0.9,\n",
       "             beta_2=0.999, early_stopping=False, epsilon=1e-08,\n",
       "             hidden_layer_sizes=(2,), learning_rate='constant',\n",
       "             learning_rate_init=0.001, max_iter=200, momentum=0.9,\n",
       "             n_iter_no_change=10, nesterovs_momentum=True, power_t=0.5,\n",
       "             random_state=33330, shuffle=True, solver='lbfgs', tol=0.001,\n",
       "             validation_fraction=0.1, verbose=False, warm_start=False)"
      ]
     },
     "execution_count": 39,
     "metadata": {},
     "output_type": "execute_result"
    }
   ],
   "source": [
    "from sklearn.neural_network import MLPRegressor\n",
    "\n",
    "\n",
    "regressor_mlp = MLPRegressor(hidden_layer_sizes=(2,),activation = 'logistic',solver='lbfgs',alpha = 0.01,random_state = 33330,tol = 0.001)\n",
    "regressor_mlp.fit(X_train,y_train)"
   ]
  },
  {
   "cell_type": "code",
   "execution_count": 40,
   "metadata": {},
   "outputs": [
    {
     "data": {
      "text/plain": [
       "0.8737030152895713"
      ]
     },
     "execution_count": 40,
     "metadata": {},
     "output_type": "execute_result"
    }
   ],
   "source": [
    "from sklearn.model_selection import cross_val_score,cross_val_predict\n",
    "accuracies_mlp = cross_val_score(estimator = regressor_mlp, X = X_train, y = y_train, cv = 10,scoring='r2')\n",
    "np.sqrt(accuracies_mlp.mean())"
   ]
  },
  {
   "cell_type": "code",
   "execution_count": 41,
   "metadata": {},
   "outputs": [
    {
     "name": "stdout",
     "output_type": "stream",
     "text": [
      "RMSE   : 0.089\n",
      "\n",
      "MAE    : 0.073\n",
      "\n",
      "R2     : 0.839\n",
      "\n",
      "Ajd R2 : 0.836\n"
     ]
    }
   ],
   "source": [
    "y_pred_mlp = regressor_mlp.predict(X_test)\n",
    "get_metrics(y_test,y_pred_mlp)"
   ]
  },
  {
   "cell_type": "code",
   "execution_count": 42,
   "metadata": {},
   "outputs": [],
   "source": [
    "import matplotlib.pyplot as plt\n",
    "import matplotlib\n",
    "import seaborn as sns\n",
    "sns.set()"
   ]
  },
  {
   "cell_type": "code",
   "execution_count": 43,
   "metadata": {},
   "outputs": [
    {
     "data": {
      "image/png": "[encoded data removed]",
      "text/plain": [
       "<Figure size 432x288 with 1 Axes>"
      ]
     },
     "metadata": {},
     "output_type": "display_data"
    }
   ],
   "source": [
    "plt.scatter(sc_X.inverse_transform(X_test)[:,0],tensile_strength_scaler.inverse_transform(y_test.reshape(-1,1)),color = 'm')\n",
    "plt.plot(np.sort(sc_X.inverse_transform(X_test), axis=0)[:,0],tensile_strength_scaler.inverse_transform(regressor_gb.predict(np.sort(X_test, axis=0)).reshape(-1,1)),color = 'blue')\n",
    "plt.title('Gradient Bossting')\n",
    "plt.xlabel('Normalising Temperature')\n",
    "plt.ylabel('Tensile Strength')\n",
    "plt.rcParams[\"figure.figsize\"] = (8,6)\n"
   ]
  },
  {
   "cell_type": "code",
   "execution_count": 44,
   "metadata": {
    "scrolled": true
   },
   "outputs": [
    {
     "data": {
      "image/png": "[encoded data removed]",
      "text/plain": [
       "<Figure size 576x432 with 1 Axes>"
      ]
     },
     "metadata": {},
     "output_type": "display_data"
    }
   ],
   "source": [
    "plt.scatter(sc_X.inverse_transform(X_test)[:,0],tensile_strength_scaler.inverse_transform(y_test.reshape(-1,1)),color = 'm')\n",
    "plt.plot(np.sort(sc_X.inverse_transform(X_test), axis=0)[:,0],tensile_strength_scaler.inverse_transform(regressor_mlp.predict(np.sort(X_test, axis=0)).reshape(-1,1)),color = 'blue')\n",
    "plt.title('MLP')\n",
    "plt.xlabel('Normalising Temperature')\n",
    "plt.ylabel('Tensile Strength')\n",
    "plt.rcParams[\"figure.figsize\"] = (8,6)"
   ]
  },
  {
   "cell_type": "code",
   "execution_count": 45,
   "metadata": {},
   "outputs": [
    {
     "data": {
      "image/png": "[encoded data removed]",
      "text/plain": [
       "<Figure size 576x432 with 1 Axes>"
      ]
     },
     "metadata": {},
     "output_type": "display_data"
    }
   ],
   "source": [
    "sorted_x = np.sort((X_test), axis=0)\n",
    "plt.scatter(X_test[:,0],y_test,color = 'm')\n",
    "plt.plot(sorted_x[:,0],regressor_lr.predict(sorted_x),color = 'blue') #Linear Regression\n",
    "plt.xlabel('Normalising Temperature')\n",
    "plt.ylabel('Tensile Strength')\n",
    "plt.rcParams[\"figure.figsize\"] = (8,6)"
   ]
  },
  {
   "cell_type": "code",
   "execution_count": 46,
   "metadata": {},
   "outputs": [
    {
     "data": {
      "text/plain": [
       "[798.5215025508616]"
      ]
     },
     "execution_count": 46,
     "metadata": {},
     "output_type": "execute_result"
    }
   ],
   "source": [
    "max(tensile_strength_scaler.inverse_transform(regressor_lr.predict(np.sort(X_test, axis=0)).reshape(-1,1)).tolist())"
   ]
  }
 ],
 "metadata": {
  "kernelspec": {
   "display_name": "Python 3",
   "language": "python",
   "name": "python3"
  },
  "language_info": {
   "codemirror_mode": {
    "name": "ipython",
    "version": 3
   },
   "file_extension": ".py",
   "mimetype": "text/x-python",
   "name": "python",
   "nbconvert_exporter": "python",
   "pygments_lexer": "ipython3",
   "version": "3.7.3"
  }
 },
 "nbformat": 4,
 "nbformat_minor": 2
}
